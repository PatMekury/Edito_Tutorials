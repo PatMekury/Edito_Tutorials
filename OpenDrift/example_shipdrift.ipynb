{
 "cells": [
  {
   "cell_type": "markdown",
   "id": "c779c6d1",
   "metadata": {},
   "source": [
    "# ShipDrift tutorial\n",
    "https://opendrift.github.io/gallery/example_shipdrift.html"
   ]
  },
  {
   "cell_type": "code",
   "execution_count": null,
   "id": "5bb76a34-3553-4843-8436-e33063846105",
   "metadata": {},
   "outputs": [],
   "source": [
    "from datetime import datetime, timedelta, timezone\n",
    "from opendrift.models.shipdrift import ShipDrift"
   ]
  },
  {
   "cell_type": "code",
   "execution_count": null,
   "id": "50be5d6f-847d-48ba-90f3-e0be70de91b4",
   "metadata": {},
   "outputs": [],
   "source": [
    "o = ShipDrift(loglevel=20)"
   ]
  },
  {
   "cell_type": "code",
   "execution_count": null,
   "id": "efed88f1-d52c-4090-bd6b-0c14c2ea0925",
   "metadata": {},
   "outputs": [],
   "source": [
    "o.add_readers_from_list([\n",
    "    'https://thredds.met.no/thredds/dodsC/cmems/topaz6/dataset-topaz6-arc-15min-3km-be.ncml',\n",
    "    'https://thredds.met.no/thredds/dodsC/mepslatest/meps_lagged_6_h_latest_2_5km_latest.nc',\n",
    "    'https://thredds.met.no/thredds/dodsC/cmems/mywavewam3km/dataset-wam-arctic-1hr3km-be.ncml'\n",
    "    ])"
   ]
  },
  {
   "cell_type": "code",
   "execution_count": null,
   "id": "5adc06ec-5c1e-4266-8f81-d68b5a894122",
   "metadata": {},
   "outputs": [],
   "source": [
    "o.seed_elements(lon=5.0, lat=63.0, radius=1000, number=1000,\n",
    "                time=datetime.now(timezone.utc).replace(tzinfo=None),\n",
    "                length=80.0, beam=20.0, height=9.0, draft=4.0)"
   ]
  },
  {
   "cell_type": "code",
   "execution_count": null,
   "id": "9d0dc42e-cd71-4fe4-844b-95ea668020e9",
   "metadata": {},
   "outputs": [],
   "source": [
    "o.run(steps=24, stop_on_error=True)"
   ]
  },
  {
   "cell_type": "code",
   "execution_count": null,
   "id": "62aa6971-8534-4815-b5b1-d688189a9294",
   "metadata": {},
   "outputs": [],
   "source": [
    "print(o)"
   ]
  },
  {
   "cell_type": "code",
   "execution_count": null,
   "id": "ee85441f-9870-4b70-a425-ec81d2b95bc0",
   "metadata": {},
   "outputs": [],
   "source": [
    "o.plot(linecolor='orientation')"
   ]
  },
  {
   "cell_type": "code",
   "execution_count": null,
   "id": "a014409e-0332-4547-af23-e02ce720af03",
   "metadata": {},
   "outputs": [],
   "source": []
  }
 ],
 "metadata": {
  "kernelspec": {
   "display_name": "Python 3 (ipykernel)",
   "language": "python",
   "name": "python3"
  },
  "language_info": {
   "codemirror_mode": {
    "name": "ipython",
    "version": 3
   },
   "file_extension": ".py",
   "mimetype": "text/x-python",
   "name": "python",
   "nbconvert_exporter": "python",
   "pygments_lexer": "ipython3",
   "version": "3.11.6"
  }
 },
 "nbformat": 4,
 "nbformat_minor": 5
}
