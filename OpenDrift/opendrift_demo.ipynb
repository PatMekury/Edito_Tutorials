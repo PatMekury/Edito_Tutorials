{
 "cells": [
  {
   "cell_type": "code",
   "execution_count": null,
   "id": "5bb76a34-3553-4843-8436-e33063846105",
   "metadata": {},
   "outputs": [],
   "source": [
    "import logging\n",
    "from IPython.display import Image\n",
    "from src.opendrift_wrapper import load_and_run"
   ]
  },
  {
   "cell_type": "code",
   "execution_count": null,
   "id": "f0fd206f-19a9-40dc-8fff-244ecdce1728",
   "metadata": {},
   "outputs": [],
   "source": [
    "#Set study location (#IBI region)\n",
    "lon=-9.5 #Longitude (east)\n",
    "lat=56. #Latitude (north)\n",
    "\n",
    "#Set simulatin parameters\n",
    "radius=7000 #virtual floats seeding radius (in meters)\n",
    "number=200 #nb. of seeded virtual floats\n",
    "steps=72 #nb. of simulation time steps (in hours)\n",
    "\n",
    "#Additional defaults\n",
    "loglevel = logging.WARNING\n",
    "lonlat_range = 2 #If None then automatically computed, otherwised approximated withmax_speed"
   ]
  },
  {
   "cell_type": "code",
   "execution_count": null,
   "id": "4bbf215b-49c6-4c9e-86a5-3aa05333ade4",
   "metadata": {},
   "outputs": [],
   "source": [
    "%%time\n",
    "o1=load_and_run(lon,lat,\n",
    "    config='glo',\n",
    "    radius=radius,\n",
    "    number=number,\n",
    "    steps=steps,\n",
    "    #defaults\n",
    "    loglevel = loglevel,\n",
    "    lonlat_range = lonlat_range,\n",
    ")"
   ]
  },
  {
   "cell_type": "code",
   "execution_count": null,
   "id": "3838114f-ef0b-4afc-8184-f9e3d7b9b48c",
   "metadata": {},
   "outputs": [],
   "source": [
    "%%time\n",
    "o2=load_and_run(lon,lat,\n",
    "    config='nws',\n",
    "    radius=radius,\n",
    "    number=number,\n",
    "    steps=steps,\n",
    "    #defaults\n",
    "    loglevel = loglevel, \n",
    "    lonlat_range = lonlat_range,\n",
    ")"
   ]
  },
  {
   "cell_type": "code",
   "execution_count": null,
   "id": "c1ba2063-985c-40b7-8601-ded2622cfb18",
   "metadata": {},
   "outputs": [],
   "source": [
    "%%time\n",
    "o3=load_and_run(lon,lat,\n",
    "    config='arc',\n",
    "    radius=radius,\n",
    "    number=number,\n",
    "    steps=steps,\n",
    "    #defaults\n",
    "    loglevel = loglevel, \n",
    "    lonlat_range = lonlat_range,\n",
    ")"
   ]
  },
  {
   "cell_type": "code",
   "execution_count": null,
   "id": "564329bf-18f2-423c-974b-1f68cafc82bf",
   "metadata": {},
   "outputs": [],
   "source": [
    "o1.animation(compare=[o2,o3], legend=['GLO MFC', 'NWS MFC', 'ARC MFC'], background=['x_sea_water_velocity', 'y_sea_water_velocity'], fast=True,filename='./simulation.gif')\n",
    "Image(url='./opendrift_demo.gif')  "
   ]
  },
  {
   "cell_type": "code",
   "execution_count": null,
   "id": "eb991fef-e5f6-4a74-b211-c8900b70a880",
   "metadata": {},
   "outputs": [],
   "source": [
    "o1.plot(compare=[o2,o3], legend=['GLO MFC', 'NWS MFC', 'ARC MFC'], background=['x_sea_water_velocity', 'y_sea_water_velocity'], fast=True)"
   ]
  }
 ],
 "metadata": {
  "kernelspec": {
   "display_name": "Python 3 (ipykernel)",
   "language": "python",
   "name": "python3"
  },
  "language_info": {
   "codemirror_mode": {
    "name": "ipython",
    "version": 3
   },
   "file_extension": ".py",
   "mimetype": "text/x-python",
   "name": "python",
   "nbconvert_exporter": "python",
   "pygments_lexer": "ipython3",
   "version": "3.11.6"
  }
 },
 "nbformat": 4,
 "nbformat_minor": 5
}
