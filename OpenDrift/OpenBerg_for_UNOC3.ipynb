{
 "cells": [
  {
   "cell_type": "markdown",
   "id": "81b510e8-fd38-430d-bdcf-0e567fd08aa1",
   "metadata": {},
   "source": [
    "#### Check installation and import libraries"
   ]
  },
  {
   "cell_type": "code",
   "execution_count": null,
   "id": "cf0df6c0-a610-4c02-855f-33b8bad463d1",
   "metadata": {},
   "outputs": [],
   "source": [
    "!copernicusmarine --version"
   ]
  },
  {
   "cell_type": "code",
   "execution_count": null,
   "id": "3f92a5fe-e16d-4269-9551-481f41c02aca",
   "metadata": {},
   "outputs": [],
   "source": [
    "import copernicusmarine\n",
    "import os\n",
    "from datetime import datetime,timedelta, timezone\n",
    "from src.copernicusmarine_Parser import BucketParser\n",
    "from src.leaflet_maps import mymap, markers_from_geojson, get_ids, filter_markers, seed_from_geopandas\n",
    "from ipywidgets import HTML\n",
    "from IPython.display import Image\n",
    "import geopandas as gpd\n",
    "import logging\n",
    "import numpy as np\n",
    "\n",
    "# Configure the logging level to INFO\n",
    "logging.basicConfig(level=logging.INFO)"
   ]
  },
  {
   "cell_type": "markdown",
   "id": "8c0c9249-edfc-44bf-b3bb-f750b312301b",
   "metadata": {},
   "source": [
    "## Set experiment parameters"
   ]
  },
  {
   "cell_type": "code",
   "execution_count": null,
   "id": "0320999a-2454-4d29-996f-8b2f710f19fc",
   "metadata": {},
   "outputs": [],
   "source": [
    "HTML(\"\"\"<div style=\"display: flex; justify-content: center; transform: scale(0.8);width: 100%; margin: auto;\">\n",
    "    <iframe src=\"https://data.marine.copernicus.eu/product/SEAICE_ARC_SEAICE_L4_NRT_OBSERVATIONS_011_007/description\" width=\"100%\" height=\"800px\"></iframe>\n",
    "</div>\"\"\")"
   ]
  },
  {
   "cell_type": "code",
   "execution_count": null,
   "id": "75ef0ccb-1b1c-4dbe-835e-e1ed782e45a6",
   "metadata": {},
   "outputs": [],
   "source": [
    "# you may fix date here if need, eg. yyyy,mm,dd=(2025,5,27) \n",
    "date=datetime.now()\n",
    "yyyy,mm,dd=date.year, date.month, date.day"
   ]
  },
  {
   "cell_type": "markdown",
   "id": "5a59f72d-7b7e-44c1-a7e9-71347dc2b135",
   "metadata": {},
   "source": [
    "## List, download and display Iceberg shapefile from Copernicus Marine"
   ]
  },
  {
   "cell_type": "markdown",
   "id": "7ef3c70a-d635-42b6-b60c-a001495e9338",
   "metadata": {},
   "source": [
    "#### Loading catalog information for `cmems_sat-si_arc_berg-point_nrt_iw_d` dataset"
   ]
  },
  {
   "cell_type": "code",
   "execution_count": null,
   "id": "16a63ed5-5713-4e24-8ab3-b472292d42d7",
   "metadata": {
    "scrolled": true
   },
   "outputs": [],
   "source": [
    "catalog=copernicusmarine.describe(contains=['cmems_sat-si_arc_berg-point_nrt_iw_d'])#,disable_progress_bar=True)\n",
    "url=catalog.products[0].datasets[0].versions[0].parts[0].services[0].uri"
   ]
  },
  {
   "cell_type": "markdown",
   "id": "eca9e617-c3df-4aae-983e-589ea2dc587a",
   "metadata": {},
   "source": [
    "#### Listing files from S3 bucket URL"
   ]
  },
  {
   "cell_type": "code",
   "execution_count": null,
   "id": "004be962-9687-4a6a-b36e-70f8a25a2591",
   "metadata": {},
   "outputs": [],
   "source": [
    "# Initialize BucketParser\n",
    "s3 = BucketParser(url=url)\n",
    "\n",
    "# List contents of the bucket with a pattern\n",
    "items = s3.list_bucket(path=f\"{yyyy:04d}/{mm:02d}\",pattern=f\"{yyyy:04d}{mm:02d}\")\n",
    "\n",
    "print(\"Data files listed:\")\n",
    "for i,item in enumerate(items): print(f\"{i+1} - {item.split('/')[-1]}\")"
   ]
  },
  {
   "cell_type": "markdown",
   "id": "4b95111f-b6af-4ad1-a1b2-7e459b940038",
   "metadata": {},
   "source": [
    "#### Download and extract latest shapefile data"
   ]
  },
  {
   "cell_type": "code",
   "execution_count": null,
   "id": "83a15f26-f3f2-4be3-b7f6-d8f65531c72d",
   "metadata": {},
   "outputs": [],
   "source": [
    "shp_file=s3.get([items[-1]])[0]+'/'"
   ]
  },
  {
   "cell_type": "markdown",
   "id": "a469f1fa-fbfa-49fd-ad8e-e63cf544622a",
   "metadata": {},
   "source": [
    "#### Read and display shapefile data"
   ]
  },
  {
   "cell_type": "code",
   "execution_count": null,
   "id": "d2142378-2491-48e7-982d-b268d025b8ee",
   "metadata": {},
   "outputs": [],
   "source": [
    "for layer in gpd.list_layers(shp_file).name:\n",
    "    if layer.startswith(\"iceberg\"): break"
   ]
  },
  {
   "cell_type": "code",
   "execution_count": null,
   "id": "93a21863-bb0d-4955-843e-5f2d2be7086c",
   "metadata": {},
   "outputs": [],
   "source": [
    "# Read the shapefile using geopandas\n",
    "gdf = gpd.read_file(shp_file, layer=layer)\n",
    "gdf"
   ]
  },
  {
   "cell_type": "markdown",
   "id": "3f57c97e-5e07-43dc-8ae1-180bbfc89768",
   "metadata": {},
   "source": [
    "#### Selecting Icebergs on a map"
   ]
  },
  {
   "cell_type": "code",
   "execution_count": null,
   "id": "24ee5aee-5fa0-497f-b501-0f56e84d1cde",
   "metadata": {},
   "outputs": [],
   "source": [
    "feature_collection=mymap(gdf)"
   ]
  },
  {
   "cell_type": "markdown",
   "id": "07f6b552-0bba-4238-b67f-ed432258a874",
   "metadata": {},
   "source": [
    "#### Filter out icebergs from shapefile and display\n",
    "* removing icebergs of size < 1000m^2"
   ]
  },
  {
   "cell_type": "code",
   "execution_count": null,
   "id": "7c5ca66d-c245-4fca-b704-8fee4810c02c",
   "metadata": {},
   "outputs": [],
   "source": [
    "filtered_feature=filter_markers(gdf, feature_collection, size=1000.)\n",
    "iceberg_ids=get_ids(filtered_feature)\n",
    "filtered_gdf = gdf.iloc[iceberg_ids]\n",
    "filtered_collection=mymap(filtered_gdf,zoom=7,subsample=1)"
   ]
  },
  {
   "cell_type": "markdown",
   "id": "91907299-f5d5-47ca-81eb-88d77fd14ef5",
   "metadata": {},
   "source": [
    "## Run OpenBerg simulations on subset"
   ]
  },
  {
   "cell_type": "markdown",
   "id": "0aafbf51-89f3-4383-af69-b3c81cf24a97",
   "metadata": {},
   "source": [
    "#### Initialize OpenBerg model"
   ]
  },
  {
   "cell_type": "code",
   "execution_count": null,
   "id": "da542814-07b8-43f7-a98a-5e52a755e7e2",
   "metadata": {},
   "outputs": [],
   "source": [
    "from opendrift.models.openberg import OpenBerg\n",
    "from opendrift.readers.reader_netCDF_CF_generic import Reader\n",
    "\n",
    "o = OpenBerg(loglevel=50) \n",
    "o.set_config('drift:vertical_profile', False) # use surface currents for this test\n",
    "o.set_config('drift:horizontal_diffusivity', 100)"
   ]
  },
  {
   "cell_type": "markdown",
   "id": "504e73ce-e27a-4b65-a4f3-0f1b2eb164b2",
   "metadata": {},
   "source": [
    "#### Adding readers to forcing data (currents, winds)\n",
    "* using TOPAZ6 15 minutes Arctic forecasts for currents\n",
    "* using NCEP Global Atmospheric Model (GFS) forecasts for winfds"
   ]
  },
  {
   "cell_type": "code",
   "execution_count": null,
   "id": "d2ee2519-eb3e-4493-8173-8e0b9ec657fb",
   "metadata": {},
   "outputs": [],
   "source": [
    "o.add_readers_from_list([\n",
    "        'https://thredds.met.no/thredds/dodsC/cmems/topaz6/dataset-topaz6-arc-15min-3km-be.ncml',\n",
    "        'https://pae-paha.pacioos.hawaii.edu/thredds/dodsC/ncep_global/NCEP_Global_Atmospheric_Model_best.ncd'])"
   ]
  },
  {
   "cell_type": "markdown",
   "id": "8da1a346-236f-47cc-b768-b366e2be824b",
   "metadata": {},
   "source": [
    "#### Seeding virtual particles on iceberg positions\n",
    "* seeding 1 particule per 50m^2 (with a minimum of 4 particles)\n",
    "* simulating icebergs' drafts & sails ranging from 20 to 120m & 5 to 50m respectively"
   ]
  },
  {
   "cell_type": "code",
   "execution_count": null,
   "id": "95a700ac-c5fd-43ea-93f4-141dfccc83ea",
   "metadata": {},
   "outputs": [],
   "source": [
    "seed_from_geopandas(o,filtered_gdf, time=datetime(yyyy, mm, dd-1))"
   ]
  },
  {
   "cell_type": "markdown",
   "id": "7642f5c0-1bfb-4915-8e07-6118a3108cfb",
   "metadata": {},
   "source": [
    "#### Run simulations (over 2 days)"
   ]
  },
  {
   "cell_type": "code",
   "execution_count": null,
   "id": "1810b496-c5a9-422d-9e2b-eb182220a806",
   "metadata": {
    "scrolled": true
   },
   "outputs": [],
   "source": [
    "simulation_days = 2 #Modify here for extending/shortening simulation\n",
    "o.run(duration=timedelta(days=simulation_days))"
   ]
  },
  {
   "cell_type": "markdown",
   "id": "e96cebf0-d08e-4c88-81f9-4c07578a739a",
   "metadata": {},
   "source": [
    "## Show results"
   ]
  },
  {
   "cell_type": "markdown",
   "id": "2254eaf6-7f60-417a-9610-01a9d8a5f95e",
   "metadata": {},
   "source": [
    "#### plot trajectories map"
   ]
  },
  {
   "cell_type": "code",
   "execution_count": null,
   "id": "5b05d3a5-a9ad-4159-8184-98b66bd04b60",
   "metadata": {},
   "outputs": [],
   "source": [
    "o.plot(fast=True)"
   ]
  },
  {
   "cell_type": "markdown",
   "id": "bd06c4c4-cb34-4d66-801e-9d5433e3acbb",
   "metadata": {},
   "source": [
    "#### Display virtual icebergs animation"
   ]
  },
  {
   "cell_type": "code",
   "execution_count": null,
   "id": "891c7806-f948-4933-904b-f7010c1845f8",
   "metadata": {},
   "outputs": [],
   "source": [
    "o.animation(fast=True,filename='./simulation.gif',background=['x_sea_water_velocity', 'y_sea_water_velocity'],show_trajectories=True)\n",
    "Image(url='./simulation.gif')"
   ]
  },
  {
   "cell_type": "markdown",
   "id": "96e59a4a-271d-41d9-97bf-df15f8e914f4",
   "metadata": {},
   "source": [
    "#### Show iceberg speed over time"
   ]
  },
  {
   "cell_type": "code",
   "execution_count": null,
   "id": "a1857148-34f9-442f-998f-e5854e97b3c1",
   "metadata": {},
   "outputs": [],
   "source": [
    "import matplotlib.pyplot as plt\n",
    "iceberg_speed = np.sqrt(o.result.iceb_x_velocity**2 + o.result.iceb_y_velocity**2)\n",
    "iceberg_speed.plot.line(x='time', add_legend=False, color='gray')\n",
    "plt.ylabel('Iceberg speed  [m/s]')\n",
    "plt.show()"
   ]
  }
 ],
 "metadata": {
  "kernelspec": {
   "display_name": "Python 3 (ipykernel)",
   "language": "python",
   "name": "python3"
  },
  "language_info": {
   "codemirror_mode": {
    "name": "ipython",
    "version": 3
   },
   "file_extension": ".py",
   "mimetype": "text/x-python",
   "name": "python",
   "nbconvert_exporter": "python",
   "pygments_lexer": "ipython3",
   "version": "3.12.9"
  }
 },
 "nbformat": 4,
 "nbformat_minor": 5
}
