{
 "cells": [
  {
   "cell_type": "markdown",
   "id": "9afe4a79-6c06-4c2b-a17d-48af7204b33c",
   "metadata": {},
   "source": [
    "# Access ORCA36 data\n",
    "\n",
    "## Configuraiton"
   ]
  },
  {
   "cell_type": "markdown",
   "id": "40cdc675-ebfb-4318-85d7-97d9cb3a3ac7",
   "metadata": {},
   "source": [
    "import the modules"
   ]
  },
  {
   "cell_type": "code",
   "execution_count": null,
   "id": "5ef5c7fe-570a-4858-a2a1-9d491419c4a7",
   "metadata": {},
   "outputs": [],
   "source": [
    "import sys, getopt\n",
    "import numpy as np\n",
    "import xarray as xr\n",
    "import matplotlib.pyplot as plt"
   ]
  },
  {
   "cell_type": "markdown",
   "id": "f4848aa0-5f59-404c-97ce-20c98436e364",
   "metadata": {},
   "source": [
    "file and variable names"
   ]
  },
  {
   "cell_type": "code",
   "execution_count": null,
   "id": "83c17faf-5092-444f-9dc0-9601b59418d9",
   "metadata": {},
   "outputs": [],
   "source": [
    "clf=\"https://s3.waw3-1.cloudferro.com/ORCA36/ORCA36-T426a_1hAV_20180102-20180102_sossheig.zarr\"\n",
    "clv=\"sossheig\"\n",
    "clout=\"sossheig.png\""
   ]
  },
  {
   "cell_type": "markdown",
   "id": "5b1b6e04-009b-4968-aee4-673d43a1ead0",
   "metadata": {},
   "source": [
    "bounds, colorbar and subsampling for the plot"
   ]
  },
  {
   "cell_type": "code",
   "execution_count": null,
   "id": "4116052c-6a5d-4faa-b6c2-41d56478047f",
   "metadata": {},
   "outputs": [],
   "source": [
    "zmin=-2.\n",
    "zmax=2.\n",
    "clpal=\"coolwarm\"\n",
    "nd=5"
   ]
  },
  {
   "cell_type": "markdown",
   "id": "9527af44-e0cd-45e1-8ae7-92162fafe591",
   "metadata": {},
   "source": [
    "## load surface data and plot"
   ]
  },
  {
   "cell_type": "code",
   "execution_count": null,
   "id": "f0c23e33-5e10-4a4c-b8d7-152f8ccab42c",
   "metadata": {},
   "outputs": [],
   "source": [
    "print(clf)\n",
    "print(clv)\n",
    "ds = xr.open_dataset(clf,engine='zarr')\n",
    "print(ds)\n",
    "z  = ds.variables[clv][0,::nd,::nd].squeeze()\n",
    "#print(np.shape(z))\n",
    "cs=plt.pcolor(z, vmin=zmin, vmax=zmax,cmap=clpal)\n",
    "plt.colorbar(cs)"
   ]
  }
 ],
 "metadata": {
  "kernelspec": {
   "display_name": "Python 3 (ipykernel)",
   "language": "python",
   "name": "python3"
  },
  "language_info": {
   "codemirror_mode": {
    "name": "ipython",
    "version": 3
   },
   "file_extension": ".py",
   "mimetype": "text/x-python",
   "name": "python",
   "nbconvert_exporter": "python",
   "pygments_lexer": "ipython3",
   "version": "3.11.6"
  }
 },
 "nbformat": 4,
 "nbformat_minor": 5
}
