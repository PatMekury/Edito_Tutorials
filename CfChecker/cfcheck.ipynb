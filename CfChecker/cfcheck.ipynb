{
 "cells": [
  {
   "cell_type": "code",
   "execution_count": 1,
   "id": "62209974-7302-427f-b2c4-86f20a806d05",
   "metadata": {},
   "outputs": [],
   "source": [
    "from copernicusmarine import get\n",
    "import yaml\n",
    "import subprocess\n",
    "import os\n",
    "import logging"
   ]
  },
  {
   "cell_type": "markdown",
   "id": "f09af901-0e6b-4b89-809d-fcea54acc1cb",
   "metadata": {},
   "source": [
    "## Define get_and_check function\n",
    "This function tries downloading with `copernicusmarine` toolbox in case a dataset name has been specificed.\n",
    "\n",
    "Otherwise it tries looking at files in the `data/` folder."
   ]
  },
  {
   "cell_type": "code",
   "execution_count": 29,
   "id": "bc7177e3-1b06-40e2-8280-245b9274de9f",
   "metadata": {},
   "outputs": [],
   "source": [
    "def get_and_check(entry, output_directory, output_file, copernicusmarine=None, cfchecks=None):\n",
    "\n",
    "    # Configure the logging system\n",
    "    logging.basicConfig(level=logging.INFO,\n",
    "                    format='%(levelname)s - %(asctime)s - %(message)s')\n",
    "    \n",
    "    # Check if 'dataset' is in entry and is not empty\n",
    "    if 'dataset' in entry and entry['dataset']:\n",
    "        try:\n",
    "            # Download the file using the get function\n",
    "            args={'dataset_id':entry['dataset'],\n",
    "                  'output_directory':output_directory,\n",
    "                  'filter':entry['filename']}\n",
    "            #Define optional arguments to pass to copernicusmarine API\n",
    "            if entry.get('copernicusmarine',None):\n",
    "                args = args | entry['copernicusmarine']\n",
    "            elif copernicusmarine:\n",
    "                args = args | copernicusmarine\n",
    "            logging.info(f\"Running copernicusmarine with options: {args}\")\n",
    "            get(**args)\n",
    "        except Exception as e:\n",
    "            # Raise an exception with a custom message if the get command fails\n",
    "            raise RuntimeError(f\"Failed to download or process the dataset: {entry['dataset']} - {entry['filename']}\\n {e}\")\n",
    "\n",
    "    # Update the filename with the full path\n",
    "    entry['filename'] = os.path.join(output_directory, entry['filename'])\n",
    "\n",
    "    # Define the command to run\n",
    "    command = ['cfchecks']\n",
    "    if entry.get('cfchecks',None): command+=[entry['cfchecks']]\n",
    "    elif cfchecks:   command+=[copernicusmarine]           \n",
    "    command+=[entry['filename']]\n",
    "    \n",
    "    try: \n",
    "        # Check cfchecker version\n",
    "        result = subprocess.run('conda list cfchecker | awk \\'/^cfchecker/{print $2}\\'',shell=True,capture_output=True,text=True)\n",
    "        #Run cfchecker with arguments\n",
    "        logging.info(f\"Running cfchecks (version:{result.stdout.strip()}) with command: {command}\")\n",
    "        subprocess.run(command, stdout=output_file, stderr=subprocess.STDOUT, text=True)\n",
    "        \n",
    "    except Exception as e:\n",
    "        # Raise an exception with a custom message if the get command fails\n",
    "        raise RuntimeError(f\"Failed to check file: {entry['filename']}\\n{e}\")"
   ]
  },
  {
   "cell_type": "markdown",
   "id": "389cb9a4-dfa2-4c1a-a7b2-54b547cffcd3",
   "metadata": {},
   "source": [
    "## Setup input parameters:\n",
    "`output directory` is the name of the directory where data can be found (or downloaded)\n",
    "\n",
    "`output_file`is the name of the output file containing logs\n",
    "\n",
    "`input_yaml`is the name of the input YAML file specifying paths to files (if already downloaded) or dataset ID + filename (if download from copernicusmarine is required)"
   ]
  },
  {
   "cell_type": "code",
   "execution_count": 3,
   "id": "0dd71ec9-e6e1-44f8-9e22-c2be87afab08",
   "metadata": {},
   "outputs": [],
   "source": [
    "output_directory = 'data/'\n",
    "output_file = 'input.log'\n",
    "input_yaml = 'input.yaml'"
   ]
  },
  {
   "cell_type": "markdown",
   "id": "4f84419a-895b-43ab-bac6-ac4106710e5b",
   "metadata": {},
   "source": [
    "## Iterate over each entries in input YAML and run checks"
   ]
  },
  {
   "cell_type": "code",
   "execution_count": 30,
   "id": "72481732-10b9-4f4a-85e5-b3d1426d5b86",
   "metadata": {},
   "outputs": [
    {
     "name": "stderr",
     "output_type": "stream",
     "text": [
      "INFO - 2025-03-22 10:05:54,066 - Version of cfchecks : 4.1.0\n",
      "INFO - 2025-03-22 10:05:54,067 - Running cfchecks with command: ['cfchecks', '-v 1.6', 'data/WAVERYSv1_climatology_19930101_20211231.nc']\n"
     ]
    }
   ],
   "source": [
    "# Open input YAML in read and output file in append mode\n",
    "with open(input_yaml, 'r') as file, open(\"output.txt\", \"w\") as output_file:\n",
    "    data = yaml.safe_load(file)\n",
    "    # Iterate over each entry in the data\n",
    "    for entry in data['data']:\n",
    "        try:\n",
    "            options = data['options'] if data['options'] is not None else None\n",
    "            get_and_check(entry, output_directory, output_file, **options)\n",
    "        except RuntimeError as e:\n",
    "            print(e)"
   ]
  },
  {
   "cell_type": "code",
   "execution_count": null,
   "id": "f750852e-0751-4cde-a7ff-fdfaf229212b",
   "metadata": {},
   "outputs": [],
   "source": []
  }
 ],
 "metadata": {
  "kernelspec": {
   "display_name": "Python 3 (ipykernel)",
   "language": "python",
   "name": "python3"
  },
  "language_info": {
   "codemirror_mode": {
    "name": "ipython",
    "version": 3
   },
   "file_extension": ".py",
   "mimetype": "text/x-python",
   "name": "python",
   "nbconvert_exporter": "python",
   "pygments_lexer": "ipython3",
   "version": "3.11.6"
  }
 },
 "nbformat": 4,
 "nbformat_minor": 5
}
